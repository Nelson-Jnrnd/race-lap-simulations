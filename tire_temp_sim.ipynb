{
 "cells": [
  {
   "cell_type": "code",
   "execution_count": 1,
   "metadata": {},
   "outputs": [],
   "source": [
    "from sim_core.engine import Engine\n",
    "from sim_core.car import Car\n",
    "from sim_core.autoTransmission import AutoTransmission\n",
    "from sim_core.utils import ms_to_kph, example_torque_curve\n",
    "from sim_core.tire import Tire\n",
    "from sim_core.compound import hard_compound, medium_compound, soft_compound\n",
    "\n",
    "engine = Engine(\n",
    "    ratio_gears=[3.5, 2.8, 2.1, 1.7, 1.3, 1],\n",
    "    ratio_differential=4,\n",
    "    torque_output = example_torque_curve,\n",
    "    max_rpm=10000,\n",
    "    min_rpm=500,\n",
    "    idle_rpm=2000\n",
    ")\n",
    "\n",
    "car = Car(\n",
    "    mass=700,\n",
    "    radius_wheel=0.3,\n",
    "    engine=engine\n",
    ")\n",
    "\n",
    "auto_transmission = AutoTransmission(\n",
    "    car.engine,\n",
    "    8000,\n",
    "    3000\n",
    ")\n",
    "\n",
    "soft_tire = Tire(soft_compound)\n",
    "medium_tire = Tire(medium_compound)\n",
    "hard_tire = Tire(hard_compound)"
   ]
  },
  {
   "cell_type": "code",
   "execution_count": null,
   "metadata": {},
   "outputs": [],
   "source": []
  },
  {
   "cell_type": "code",
   "execution_count": null,
   "metadata": {},
   "outputs": [],
   "source": [
    "import matplotlib.pyplot as plt\n",
    "import numpy as np"
   ]
  }
 ],
 "metadata": {
  "kernelspec": {
   "display_name": "gpt",
   "language": "python",
   "name": "python3"
  },
  "language_info": {
   "codemirror_mode": {
    "name": "ipython",
    "version": 3
   },
   "file_extension": ".py",
   "mimetype": "text/x-python",
   "name": "python",
   "nbconvert_exporter": "python",
   "pygments_lexer": "ipython3",
   "version": "3.11.4"
  },
  "orig_nbformat": 4
 },
 "nbformat": 4,
 "nbformat_minor": 2
}
