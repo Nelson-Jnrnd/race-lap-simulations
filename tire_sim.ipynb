{
 "cells": [
  {
   "cell_type": "code",
   "execution_count": 1,
   "metadata": {},
   "outputs": [],
   "source": [
    "from sim_core.engine import Engine\n",
    "from sim_core.car import Car\n",
    "from sim_core.autoTransmission import AutoTransmission\n",
    "from sim_core.utils import ms_to_kph, example_torque_curve\n",
    "\n",
    "engine = Engine(\n",
    "    ratio_gears=[3.5, 2.8, 2.1, 1.7, 1.3, 1],\n",
    "    ratio_differential=4,\n",
    "    torque_output = example_torque_curve,\n",
    "    max_rpm=10000,\n",
    "    min_rpm=500,\n",
    "    idle_rpm=2000\n",
    ")\n",
    "\n",
    "car = Car(\n",
    "    mass=700,\n",
    "    radius_wheel=0.3,\n",
    "    engine=engine\n",
    ")\n",
    "\n",
    "auto_transmission = AutoTransmission(\n",
    "    car.engine,\n",
    "    8000,\n",
    "    3000\n",
    ")"
   ]
  },
  {
   "cell_type": "code",
   "execution_count": 7,
   "metadata": {},
   "outputs": [],
   "source": [
    "class Compound:\n",
    "    def __init__(self, base_grip, degradation_rate, degradation_rate_change):\n",
    "        self.base_grip = base_grip\n",
    "        self.degradation_rate = degradation_rate\n",
    "        self.degradation_rate_change = degradation_rate_change\n",
    "\n",
    "class Tire:\n",
    "    def __init__(self, compound, age):\n",
    "        self.compound = compound\n",
    "        self.age = age\n",
    "\n",
    "    def get_grip(self):\n",
    "        return self.compound.base_grip - (self.compound.degradation_rate * self.age + 0.5 * self.compound.degradation_rate_change * self.age ** 2)"
   ]
  },
  {
   "cell_type": "code",
   "execution_count": 23,
   "metadata": {},
   "outputs": [],
   "source": [
    "soft = Compound(1, 0.002, 0.003)\n",
    "\n",
    "tire = Tire(soft, 0)"
   ]
  },
  {
   "cell_type": "code",
   "execution_count": 25,
   "metadata": {},
   "outputs": [
    {
     "name": "stdout",
     "output_type": "stream",
     "text": [
      "Tire age : 0, grip : 1.0, usage percent 100.0%\n",
      "Tire age : 1, grip : 0.9965, usage percent 99.65%\n",
      "Tire age : 2, grip : 0.99, usage percent 99.0%\n",
      "Tire age : 3, grip : 0.9805, usage percent 98.05%\n",
      "Tire age : 4, grip : 0.968, usage percent 96.8%\n",
      "Tire age : 5, grip : 0.9525, usage percent 95.25%\n",
      "Tire age : 6, grip : 0.9339999999999999, usage percent 93.39999999999999%\n",
      "Tire age : 7, grip : 0.9125, usage percent 91.25%\n",
      "Tire age : 8, grip : 0.888, usage percent 88.8%\n",
      "Tire age : 9, grip : 0.8605, usage percent 86.05000000000001%\n",
      "Tire age : 10, grip : 0.8300000000000001, usage percent 83.0%\n",
      "Tire age : 11, grip : 0.7965, usage percent 79.65%\n",
      "Tire age : 12, grip : 0.76, usage percent 76.0%\n",
      "Tire age : 13, grip : 0.7204999999999999, usage percent 72.05%\n",
      "Tire age : 14, grip : 0.6779999999999999, usage percent 67.8%\n",
      "Tire age : 15, grip : 0.6325, usage percent 63.24999999999999%\n",
      "Tire age : 16, grip : 0.584, usage percent 58.4%\n",
      "Tire age : 17, grip : 0.5325, usage percent 53.25%\n",
      "Tire age : 18, grip : 0.478, usage percent 47.8%\n",
      "Tire age : 19, grip : 0.4205, usage percent 42.05%\n"
     ]
    }
   ],
   "source": [
    "tire.age = 0\n",
    "\n",
    "for i in range(20):\n",
    "    print(f'Tire age : {tire.age}, grip : {tire.get_grip()}, usage percent {tire.get_grip() / tire.compound.base_grip * 100}%')\n",
    "    tire.age += 1"
   ]
  },
  {
   "cell_type": "code",
   "execution_count": 4,
   "metadata": {},
   "outputs": [],
   "source": [
    "car.reset()\n",
    "car.accelerate(0.1)"
   ]
  },
  {
   "cell_type": "code",
   "execution_count": 5,
   "metadata": {},
   "outputs": [
    {
     "data": {
      "text/plain": [
       "3158.75"
      ]
     },
     "execution_count": 5,
     "metadata": {},
     "output_type": "execute_result"
    }
   ],
   "source": [
    "car.force_wheel()"
   ]
  }
 ],
 "metadata": {
  "kernelspec": {
   "display_name": "gpt",
   "language": "python",
   "name": "python3"
  },
  "language_info": {
   "codemirror_mode": {
    "name": "ipython",
    "version": 3
   },
   "file_extension": ".py",
   "mimetype": "text/x-python",
   "name": "python",
   "nbconvert_exporter": "python",
   "pygments_lexer": "ipython3",
   "version": "3.11.4"
  },
  "orig_nbformat": 4
 },
 "nbformat": 4,
 "nbformat_minor": 2
}
